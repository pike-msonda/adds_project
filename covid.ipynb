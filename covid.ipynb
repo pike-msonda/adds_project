{
 "metadata": {
  "language_info": {
   "codemirror_mode": {
    "name": "ipython",
    "version": 3
   },
   "file_extension": ".py",
   "mimetype": "text/x-python",
   "name": "python",
   "nbconvert_exporter": "python",
   "pygments_lexer": "ipython3",
   "version": "3.8.5-final"
  },
  "orig_nbformat": 2,
  "kernelspec": {
   "name": "python3",
   "display_name": "Python 3.8.5 64-bit ('ds': conda)",
   "metadata": {
    "interpreter": {
     "hash": "3447aa4cfe23d7fbd4ad121ba973f8c1e889268b70fb27b9be44aac789c14cfe"
    }
   }
  }
 },
 "nbformat": 4,
 "nbformat_minor": 2,
 "cells": [
  {
   "cell_type": "code",
   "execution_count": 2,
   "metadata": {},
   "outputs": [],
   "source": [
    "# Importing necessary libraries and modules\n",
    "import os\n",
    "import datetime\n",
    "import numpy as np\n",
    "import pandas as pd\n",
    "import seaborn as sns\n",
    "from utils import create_conditions\n",
    "import matplotlib.pyplot as plt"
   ]
  },
  {
   "cell_type": "code",
   "execution_count": 3,
   "metadata": {},
   "outputs": [],
   "source": [
    "# Load data\n",
    "cases = pd.read_csv(\"./data/covid/africa_daily_time_series_cases.csv\")\n",
    "deaths = pd.read_csv(\"./data/covid/africa_daily_time_series_deaths.csv\")\n",
    "recoveries = pd.read_csv(\"./data/covid/africa_daily_time_series_recovered.csv\")"
   ]
  },
  {
   "cell_type": "code",
   "execution_count": 28,
   "metadata": {
    "tags": []
   },
   "outputs": [
    {
     "output_type": "execute_result",
     "data": {
      "text/plain": [
       "1/22/20    0\n",
       "1/23/20    0\n",
       "1/24/20    0\n",
       "1/25/20    0\n",
       "1/26/20    0\n",
       "1/27/20    0\n",
       "1/28/20    0\n",
       "1/29/20    0\n",
       "1/30/20    0\n",
       "1/31/20    0\n",
       "dtype: int64"
      ]
     },
     "metadata": {},
     "execution_count": 28
    }
   ],
   "source": [
    "# cases[(cases.iloc[:, 3:13].columns > 0).any(axis=1)]\n",
    "first_month_cases = cases.loc[:, cases.iloc[:,3:13].columns.values]\n",
    "first_month_cases[(first_month_cases > 0).all(1)]\n",
    "\n"
   ]
  },
  {
   "cell_type": "code",
   "execution_count": 83,
   "metadata": {},
   "outputs": [
    {
     "output_type": "stream",
     "name": "stdout",
     "text": [
      "31/01/20\n29/02/20\n31/03/20\n27/04/20\n"
     ]
    },
    {
     "output_type": "execute_result",
     "data": {
      "text/plain": [
       "1    None\n",
       "2    None\n",
       "3    None\n",
       "4    None\n",
       "dtype: object"
      ]
     },
     "metadata": {},
     "execution_count": 83
    }
   ],
   "source": [
    "dates = pd.to_datetime(cases.iloc[:, 3:,].columns.values).to_series()\n",
    "month_end_dates = dates.groupby(dates.index.month).apply(lambda x: x.index.max())\n",
    "month_end_dates.apply(lambda x: print(x.strftime('%m/%d/%y')))\n",
    "# pd.to_datetime(month_end_dates, format='%d/%m/%Y')"
   ]
  },
  {
   "cell_type": "code",
   "execution_count": null,
   "metadata": {},
   "outputs": [],
   "source": []
  }
 ]
}