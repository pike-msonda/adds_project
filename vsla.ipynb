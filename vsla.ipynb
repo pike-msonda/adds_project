{
 "metadata": {
  "language_info": {
   "codemirror_mode": {
    "name": "ipython",
    "version": 3
   },
   "file_extension": ".py",
   "mimetype": "text/x-python",
   "name": "python",
   "nbconvert_exporter": "python",
   "pygments_lexer": "ipython3",
   "version": "3.8.5-final"
  },
  "orig_nbformat": 2,
  "kernelspec": {
   "name": "python3",
   "display_name": "Python 3",
   "language": "python"
  }
 },
 "nbformat": 4,
 "nbformat_minor": 2,
 "cells": [
  {
   "cell_type": "code",
   "execution_count": null,
   "metadata": {},
   "outputs": [],
   "source": [
    "# Importing necessary libraries and modules\n",
    "import os\n",
    "import datetime\n",
    "import numpy as np\n",
    "import pandas as pd\n",
    "import seaborn as sns\n",
    "from utils import to_datetime\n",
    "import matplotlib.pyplot as plt"
   ]
  },
  {
   "cell_type": "code",
   "execution_count": null,
   "metadata": {},
   "outputs": [],
   "source": [
    "# Load data\n",
    "countries = pd.read_csv(\"./data/village_savings/Countries.csv\")\n",
    "locations = pd.read_csv(\"./data/village_savings/Locations.csv\")\n",
    "regions = pd.read_csv(\"./data/village_savings/Regions.csv\")\n",
    "members = pd.read_csv(\"./data/village_savings/Members.csv\", sep=\"\\t\") #tab seperated csv\n",
    "group_members = pd.read_csv(\"./data/village_savings/GroupMembers.csv\")\n",
    "groups = pd.read_csv(\"./data/village_savings/SavingsGroups.csv\", sep=\"\\t\")\n"
   ]
  },
  {
   "cell_type": "code",
   "execution_count": null,
   "metadata": {},
   "outputs": [],
   "source": [
    "# Join data: Location Name, Region Name, and Country Name\n",
    "groups = groups.merge(locations, on=\"LocationId\").merge(regions, on=\"RegionId\").merge(countries, on=\"CountryCode\")"
   ]
  },
  {
   "cell_type": "code",
   "execution_count": null,
   "metadata": {},
   "outputs": [],
   "source": [
    "groups.head()"
   ]
  },
  {
   "cell_type": "code",
   "execution_count": null,
   "metadata": {
    "tags": []
   },
   "outputs": [],
   "source": [
    "# Get Member of groups\n",
    "# groups[groups.GroupStatusCode != 'E']\n",
    "groups['NumberOfMembers'] = 0\n",
    "for idx, row in groups.iterrows():\n",
    "   if row.IsKhusaServiceOffered == 1:\n",
    "       groups.at[idx, 'NumberOfMembers'] = group_members[lambda x: x.GroupID == row.GroupID]['GroupID'].count()"
   ]
  },
  {
   "cell_type": "code",
   "execution_count": null,
   "metadata": {},
   "outputs": [],
   "source": [
    "# Create pivot table using RegionName and CountryName columns.\n",
    "group_pivot_table = pd.pivot_table(groups[groups.NumberOfMembers > 0], values='NumberOfMembers', index=['CountryName', 'RegionName'], columns=['GroupName'], fill_value=0)"
   ]
  },
  {
   "cell_type": "code",
   "execution_count": null,
   "metadata": {},
   "outputs": [],
   "source": [
    "#Question 1. How many groups and members are there currently registered? And what is their geographical coverage? (Country and Region)\n",
    "sns.heatmap(group_pivot_table, annot=True,  cmap=\"YlGnBu\")"
   ]
  },
  {
   "cell_type": "code",
   "execution_count": null,
   "metadata": {},
   "outputs": [],
   "source": [
    "group_members.head()"
   ]
  },
  {
   "cell_type": "code",
   "execution_count": null,
   "metadata": {},
   "outputs": [],
   "source": [
    "# group_members = group_members.merge(members[['MemberID', 'Gender']], on=\"MemberID\").merge(groups[['GroupID', 'GroupName', 'RegionName']], on=\"GroupID\")\n",
    "group_members = group_members.merge(members[['MemberID', 'Gender']], on=\"MemberID\", how='left').merge(groups[['GroupID', 'GroupName', 'RegionName']], on=\"GroupID\" , how=\"left\")"
   ]
  },
  {
   "cell_type": "code",
   "execution_count": null,
   "metadata": {},
   "outputs": [],
   "source": [
    "# pd.crosstab([group_members.GroupName],group_members.Gender).plot.bar()\n",
    "group_members.groupby(group_members.GroupName).Gender.value_counts(normalize=True).unstack().plot.bar(stacked=True)"
   ]
  },
  {
   "cell_type": "code",
   "execution_count": null,
   "metadata": {},
   "outputs": [],
   "source": [
    "group_members.groupby([group_members.RegionName, group_members.Gender]).Gender.value_counts(normalize=True).unstack().plot.bar(stacked=True)\n"
   ]
  },
  {
   "cell_type": "code",
   "execution_count": null,
   "metadata": {},
   "outputs": [],
   "source": [
    "major_cities = ['Lilongwe', 'Zomba', 'Mzuzu', 'Blantyre'] #major cities in Malawi\n",
    "# groups[groups.LocationName.isin(major_cities)]\n",
    "groups[groups.CountryName == 'Malawi'][groups.LocationName.isin(major_cities)].groupby(['LocationName']).NumberOfMembers.sum().plot.pie()"
   ]
  },
  {
   "cell_type": "code",
   "execution_count": null,
   "metadata": {},
   "outputs": [],
   "source": [
    "group_members.head()"
   ]
  },
  {
   "cell_type": "code",
   "execution_count": null,
   "metadata": {},
   "outputs": [],
   "source": [
    "group_members.DateCreated = group_members.DateCreated.apply(lambda x: to_datetime(x, \"%Y-%m-%d %H:%M:%S.%f\")) #convert column to to_datetime"
   ]
  },
  {
   "cell_type": "code",
   "execution_count": 24,
   "metadata": {},
   "outputs": [
    {
     "output_type": "execute_result",
     "data": {
      "text/plain": [
       "   GroupID                      GroupName  MaximumMemberCount LanguageCode  \\\n",
       "0        1                   Brakus-Borer                  20        en-GB   \n",
       "1        2  Bergstrom, Raynor and Gutmann                  10        en-GB   \n",
       "2        3               Carroll and Sons                   8        en-GB   \n",
       "3        4                Hoppe-Lueilwitz                  10        en-GB   \n",
       "4        8                       Ward LLC                  20        en-GB   \n",
       "\n",
       "  CurrencyCode  LocationId  IsActive GroupStatusCode GroupTypeCode  \\\n",
       "0          MWK           7         1               A             V   \n",
       "1          MWK           7         1               A             V   \n",
       "2          MWK           7         1               E             V   \n",
       "3          MWK           7         1               E             M   \n",
       "4          MWK           7         1               E             V   \n",
       "\n",
       "  DateCreated LocationName  RegionId RegionName CountryCode CountryName  \\\n",
       "0     20:09.8     Lilongwe         2    Central          MW      Malawi   \n",
       "1     31:19.9     Lilongwe         2    Central          MW      Malawi   \n",
       "2     29:02.8     Lilongwe         2    Central          MW      Malawi   \n",
       "3     04:19.3     Lilongwe         2    Central          MW      Malawi   \n",
       "4     05:46.1     Lilongwe         2    Central          MW      Malawi   \n",
       "\n",
       "   PhoneCode  IsKhusaServiceOffered  GMTHours  NumberOfMembers  \n",
       "0        265                      1         2               19  \n",
       "1        265                      1         2                0  \n",
       "2        265                      1         2                0  \n",
       "3        265                      1         2                0  \n",
       "4        265                      1         2                1  "
      ],
      "text/html": "<div>\n<style scoped>\n    .dataframe tbody tr th:only-of-type {\n        vertical-align: middle;\n    }\n\n    .dataframe tbody tr th {\n        vertical-align: top;\n    }\n\n    .dataframe thead th {\n        text-align: right;\n    }\n</style>\n<table border=\"1\" class=\"dataframe\">\n  <thead>\n    <tr style=\"text-align: right;\">\n      <th></th>\n      <th>GroupID</th>\n      <th>GroupName</th>\n      <th>MaximumMemberCount</th>\n      <th>LanguageCode</th>\n      <th>CurrencyCode</th>\n      <th>LocationId</th>\n      <th>IsActive</th>\n      <th>GroupStatusCode</th>\n      <th>GroupTypeCode</th>\n      <th>DateCreated</th>\n      <th>LocationName</th>\n      <th>RegionId</th>\n      <th>RegionName</th>\n      <th>CountryCode</th>\n      <th>CountryName</th>\n      <th>PhoneCode</th>\n      <th>IsKhusaServiceOffered</th>\n      <th>GMTHours</th>\n      <th>NumberOfMembers</th>\n    </tr>\n  </thead>\n  <tbody>\n    <tr>\n      <th>0</th>\n      <td>1</td>\n      <td>Brakus-Borer</td>\n      <td>20</td>\n      <td>en-GB</td>\n      <td>MWK</td>\n      <td>7</td>\n      <td>1</td>\n      <td>A</td>\n      <td>V</td>\n      <td>20:09.8</td>\n      <td>Lilongwe</td>\n      <td>2</td>\n      <td>Central</td>\n      <td>MW</td>\n      <td>Malawi</td>\n      <td>265</td>\n      <td>1</td>\n      <td>2</td>\n      <td>19</td>\n    </tr>\n    <tr>\n      <th>1</th>\n      <td>2</td>\n      <td>Bergstrom, Raynor and Gutmann</td>\n      <td>10</td>\n      <td>en-GB</td>\n      <td>MWK</td>\n      <td>7</td>\n      <td>1</td>\n      <td>A</td>\n      <td>V</td>\n      <td>31:19.9</td>\n      <td>Lilongwe</td>\n      <td>2</td>\n      <td>Central</td>\n      <td>MW</td>\n      <td>Malawi</td>\n      <td>265</td>\n      <td>1</td>\n      <td>2</td>\n      <td>0</td>\n    </tr>\n    <tr>\n      <th>2</th>\n      <td>3</td>\n      <td>Carroll and Sons</td>\n      <td>8</td>\n      <td>en-GB</td>\n      <td>MWK</td>\n      <td>7</td>\n      <td>1</td>\n      <td>E</td>\n      <td>V</td>\n      <td>29:02.8</td>\n      <td>Lilongwe</td>\n      <td>2</td>\n      <td>Central</td>\n      <td>MW</td>\n      <td>Malawi</td>\n      <td>265</td>\n      <td>1</td>\n      <td>2</td>\n      <td>0</td>\n    </tr>\n    <tr>\n      <th>3</th>\n      <td>4</td>\n      <td>Hoppe-Lueilwitz</td>\n      <td>10</td>\n      <td>en-GB</td>\n      <td>MWK</td>\n      <td>7</td>\n      <td>1</td>\n      <td>E</td>\n      <td>M</td>\n      <td>04:19.3</td>\n      <td>Lilongwe</td>\n      <td>2</td>\n      <td>Central</td>\n      <td>MW</td>\n      <td>Malawi</td>\n      <td>265</td>\n      <td>1</td>\n      <td>2</td>\n      <td>0</td>\n    </tr>\n    <tr>\n      <th>4</th>\n      <td>8</td>\n      <td>Ward LLC</td>\n      <td>20</td>\n      <td>en-GB</td>\n      <td>MWK</td>\n      <td>7</td>\n      <td>1</td>\n      <td>E</td>\n      <td>V</td>\n      <td>05:46.1</td>\n      <td>Lilongwe</td>\n      <td>2</td>\n      <td>Central</td>\n      <td>MW</td>\n      <td>Malawi</td>\n      <td>265</td>\n      <td>1</td>\n      <td>2</td>\n      <td>1</td>\n    </tr>\n  </tbody>\n</table>\n</div>"
     },
     "metadata": {},
     "execution_count": 24
    }
   ],
   "source": [
    "# group_members.groupby([group_members.DateCreated.dt.year]).MemberID.count().max().sort_by()\n",
    "groups.head()\n",
    "# group_members.groupby([group_members.DateCreated.dt.month, group_members.DateCreated.dt.year]).MemberID.max()\n",
    "\n"
   ]
  },
  {
   "cell_type": "code",
   "execution_count": null,
   "metadata": {},
   "outputs": [],
   "source": []
  }
 ]
}